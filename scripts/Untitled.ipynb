{
 "cells": [
  {
   "cell_type": "code",
   "execution_count": 224,
   "id": "176ba340-f22d-45a2-8c03-8b17d17bc898",
   "metadata": {},
   "outputs": [],
   "source": [
    "import os\n",
    "import logging\n",
    "from typing import List\n",
    "import h5py\n",
    "import numpy as np\n",
    "import allel\n",
    "\n",
    "#from utils.io import read_vcf_file"
   ]
  },
  {
   "cell_type": "code",
   "execution_count": 70,
   "id": "b82edc35-6e6b-4238-9f3b-2b4a7169e9ea",
   "metadata": {},
   "outputs": [],
   "source": [
    "#path1 = '/home/users/miriambt/my_work/dog-gen-to-phen/Datafix/merged_819/imputed_query.npy'\n",
    "\n",
    "path1 = '/scratch/users/miriambt/data/dogs/formatted_data/4th_dataset/merged/whole_embark_filtered_samples_379_separated.npy'\n",
    "vcf_path1 = '/scratch/users/miriambt/data/dogs/formatted_data/4th_dataset/merged/whole_embark_filtered_samples_379.vcf'\n",
    "\n",
    "# 1 indicates the feature is correct and 0 otherwise\n",
    "path_removed_indexes = '/home/users/miriambt/my_work/dog-gen-to-phen/Datafix/merged_819/'"
   ]
  },
  {
   "cell_type": "code",
   "execution_count": 210,
   "id": "bab58b80-9430-4226-818f-1ccedf9919e3",
   "metadata": {},
   "outputs": [],
   "source": [
    "def read_vcf_file(input_path: str) -> dict:\n",
    "    \"\"\"\n",
    "    Reads data .vcf file.\n",
    "    \n",
    "    Args:\n",
    "        input_path (str): path to .vcf file.\n",
    "        logger (logging.Logger): debug/information tracker.\n",
    "        \n",
    "    Returns:\n",
    "        data (Dict): dictionary with the content of .vcf file. If the input_path\n",
    "        is None, then returns None.\n",
    "\n",
    "    \"\"\"\n",
    "    \n",
    "    if input_path is not None:\n",
    "        # Read the .vcf file using skikit-allel\n",
    "        data = allel.read_vcf(input_path)\n",
    "        \n",
    "        # Obtain dimensions of the data\n",
    "        # That is, the amount of samples and of SNPs\n",
    "        print(f'There are {len(data[\"variants/ID\"])} SNPs and {len(data[\"samples\"])} '\\\n",
    "                    f'samples in {input_path}.')\n",
    "    else:\n",
    "        data = None\n",
    "    \n",
    "    return data"
   ]
  },
  {
   "cell_type": "code",
   "execution_count": 211,
   "id": "980e68a1-3acc-43a8-8fc8-c462c3709782",
   "metadata": {},
   "outputs": [
    {
     "name": "stdout",
     "output_type": "stream",
     "text": [
      "There are 185465 SNPs and 379 samples in /scratch/users/miriambt/data/dogs/formatted_data/4th_dataset/merged/whole_embark_filtered_samples_379.vcf.\n"
     ]
    }
   ],
   "source": [
    "data1 = np.load(path1)\n",
    "query = read_vcf_file(vcf_path1)\n",
    "#removed_indexes = np.load(path_removed_indexes)"
   ]
  },
  {
   "cell_type": "code",
   "execution_count": 212,
   "id": "a3429b1d-7655-4160-b9a6-1b23a5417ec0",
   "metadata": {},
   "outputs": [],
   "source": [
    "# Obtain SNPs data\n",
    "snps = query['calldata/GT']\n",
    "\n",
    "# Obtain the dimensions of the data\n",
    "num_snps, num_samples, num_strands = snps.shape"
   ]
  },
  {
   "cell_type": "code",
   "execution_count": 213,
   "id": "254bfa32-524e-4807-a025-fa4965683534",
   "metadata": {},
   "outputs": [
    {
     "data": {
      "text/plain": [
       "array([[[0, 0],\n",
       "        [0, 0],\n",
       "        [0, 0],\n",
       "        ...,\n",
       "        [0, 0],\n",
       "        [0, 0],\n",
       "        [0, 0]],\n",
       "\n",
       "       [[1, 1],\n",
       "        [1, 1],\n",
       "        [1, 1],\n",
       "        ...,\n",
       "        [1, 1],\n",
       "        [1, 1],\n",
       "        [1, 1]],\n",
       "\n",
       "       [[0, 0],\n",
       "        [0, 0],\n",
       "        [0, 0],\n",
       "        ...,\n",
       "        [0, 0],\n",
       "        [0, 0],\n",
       "        [0, 0]],\n",
       "\n",
       "       ...,\n",
       "\n",
       "       [[0, 1],\n",
       "        [0, 0],\n",
       "        [0, 0],\n",
       "        ...,\n",
       "        [0, 0],\n",
       "        [0, 0],\n",
       "        [0, 0]],\n",
       "\n",
       "       [[1, 0],\n",
       "        [0, 1],\n",
       "        [1, 1],\n",
       "        ...,\n",
       "        [1, 1],\n",
       "        [1, 1],\n",
       "        [1, 1]],\n",
       "\n",
       "       [[1, 0],\n",
       "        [0, 1],\n",
       "        [1, 1],\n",
       "        ...,\n",
       "        [1, 1],\n",
       "        [1, 1],\n",
       "        [1, 1]]], dtype=int8)"
      ]
     },
     "execution_count": 213,
     "metadata": {},
     "output_type": "execute_result"
    }
   ],
   "source": [
    "snps"
   ]
  },
  {
   "cell_type": "code",
   "execution_count": 214,
   "id": "340bb27c-48d8-4e42-8984-3584cf272d22",
   "metadata": {},
   "outputs": [
    {
     "data": {
      "text/plain": [
       "array([[0, 1, 0, ..., 0, 1, 1],\n",
       "       [0, 1, 0, ..., 0, 0, 0],\n",
       "       [0, 1, 0, ..., 0, 1, 1],\n",
       "       ...,\n",
       "       [0, 1, 0, ..., 0, 1, 1],\n",
       "       [0, 1, 0, ..., 0, 1, 1],\n",
       "       [0, 1, 0, ..., 0, 1, 1]], dtype=int8)"
      ]
     },
     "execution_count": 214,
     "metadata": {},
     "output_type": "execute_result"
    }
   ],
   "source": [
    "snps[:,:,0].T"
   ]
  },
  {
   "cell_type": "code",
   "execution_count": 215,
   "id": "f5add7a5-903d-43c1-aceb-a998ca51c337",
   "metadata": {},
   "outputs": [
    {
     "data": {
      "text/plain": [
       "array([[0, 1, 0, ..., 1, 0, 0],\n",
       "       [0, 1, 0, ..., 0, 1, 1],\n",
       "       [0, 1, 0, ..., 0, 1, 1],\n",
       "       ...,\n",
       "       [0, 1, 0, ..., 0, 1, 1],\n",
       "       [0, 1, 0, ..., 0, 1, 1],\n",
       "       [0, 1, 0, ..., 0, 1, 1]], dtype=int8)"
      ]
     },
     "execution_count": 215,
     "metadata": {},
     "output_type": "execute_result"
    }
   ],
   "source": [
    "snps[:,:,1].T"
   ]
  },
  {
   "cell_type": "code",
   "execution_count": 216,
   "id": "3db61a6a-ff95-4a4b-bea4-473f2b27fa29",
   "metadata": {},
   "outputs": [],
   "source": [
    "snps_flattened = snps.reshape(num_snps, num_samples*2).T"
   ]
  },
  {
   "cell_type": "code",
   "execution_count": 217,
   "id": "dcbf762c-6531-4df8-acc9-19bd8cb28c1a",
   "metadata": {},
   "outputs": [],
   "source": [
    "a = np.ones((num_snps, num_samples, 2))"
   ]
  },
  {
   "cell_type": "code",
   "execution_count": 219,
   "id": "64856f63-1526-4188-af6d-9b2286a542f3",
   "metadata": {},
   "outputs": [],
   "source": [
    "a[:,:,0] = snps_flattened[::2,:].T\n",
    "a[:,:,1] = snps_flattened[1::2,:].T"
   ]
  },
  {
   "cell_type": "code",
   "execution_count": 222,
   "id": "cffbc1cc-e493-43d1-a4b9-6d0f1f233de5",
   "metadata": {},
   "outputs": [
    {
     "data": {
      "text/plain": [
       "array([[0., 1., 0., ..., 0., 1., 1.],\n",
       "       [0., 1., 0., ..., 0., 0., 0.],\n",
       "       [0., 1., 0., ..., 0., 1., 1.],\n",
       "       ...,\n",
       "       [0., 1., 0., ..., 0., 1., 1.],\n",
       "       [0., 1., 0., ..., 0., 1., 1.],\n",
       "       [0., 1., 0., ..., 0., 1., 1.]])"
      ]
     },
     "execution_count": 222,
     "metadata": {},
     "output_type": "execute_result"
    }
   ],
   "source": [
    "a[:,:,0].T"
   ]
  },
  {
   "cell_type": "code",
   "execution_count": 223,
   "id": "49728127-9100-4ea5-8993-60b6b8af5ef8",
   "metadata": {},
   "outputs": [
    {
     "data": {
      "text/plain": [
       "array([[0., 1., 0., ..., 1., 0., 0.],\n",
       "       [0., 1., 0., ..., 0., 1., 1.],\n",
       "       [0., 1., 0., ..., 0., 1., 1.],\n",
       "       ...,\n",
       "       [0., 1., 0., ..., 0., 1., 1.],\n",
       "       [0., 1., 0., ..., 0., 1., 1.],\n",
       "       [0., 1., 0., ..., 0., 1., 1.]])"
      ]
     },
     "execution_count": 223,
     "metadata": {},
     "output_type": "execute_result"
    }
   ],
   "source": [
    "a[:,:,1].T"
   ]
  },
  {
   "cell_type": "code",
   "execution_count": 191,
   "id": "fa271e0b-b9c5-4056-9f13-c653f4a38a43",
   "metadata": {},
   "outputs": [
    {
     "data": {
      "text/plain": [
       "array([[[0., 0.],\n",
       "        [1., 1.],\n",
       "        [0., 0.],\n",
       "        ...,\n",
       "        [0., 0.],\n",
       "        [0., 0.],\n",
       "        [0., 0.]],\n",
       "\n",
       "       [[0., 0.],\n",
       "        [0., 0.],\n",
       "        [0., 0.],\n",
       "        ...,\n",
       "        [0., 0.],\n",
       "        [0., 0.],\n",
       "        [0., 0.]],\n",
       "\n",
       "       [[0., 0.],\n",
       "        [0., 0.],\n",
       "        [0., 0.],\n",
       "        ...,\n",
       "        [0., 0.],\n",
       "        [0., 0.],\n",
       "        [0., 0.]],\n",
       "\n",
       "       ...,\n",
       "\n",
       "       [[1., 1.],\n",
       "        [0., 0.],\n",
       "        [0., 1.],\n",
       "        ...,\n",
       "        [1., 1.],\n",
       "        [1., 1.],\n",
       "        [0., 0.]],\n",
       "\n",
       "       [[1., 1.],\n",
       "        [0., 0.],\n",
       "        [1., 0.],\n",
       "        ...,\n",
       "        [0., 0.],\n",
       "        [0., 0.],\n",
       "        [0., 0.]],\n",
       "\n",
       "       [[0., 1.],\n",
       "        [0., 1.],\n",
       "        [0., 0.],\n",
       "        ...,\n",
       "        [0., 0.],\n",
       "        [1., 1.],\n",
       "        [1., 1.]]])"
      ]
     },
     "execution_count": 191,
     "metadata": {},
     "output_type": "execute_result"
    }
   ],
   "source": [
    "a"
   ]
  },
  {
   "cell_type": "code",
   "execution_count": 59,
   "id": "f74f7985-ff43-44ce-979b-586e5026e8ff",
   "metadata": {},
   "outputs": [],
   "source": [
    "def select_snps(vcf_data: dict, indexes: List) -> dict:\n",
    "    \"\"\"\n",
    "    Selects the SNPs at the specified index positions.\n",
    "    \n",
    "    Args:\n",
    "        vcf_data (dict): allel.read_vcf output.\n",
    "        indexes (List): list with the indexes of the SNPs to be kept. \n",
    "                        The SNPs that are not in this list will be removed.\n",
    "    \n",
    "    Returns:\n",
    "        vcf_data (dict): vcf_data containing the SNPs at the specified indexes.\n",
    "    \n",
    "    \"\"\"\n",
    "\n",
    "    # Keep all the SNPs at the specified index positions for all the keys different from samples\n",
    "    for key in vcf_data.keys():\n",
    "        if key != 'samples':\n",
    "            vcf_data[key] = vcf_data[key][indexes]\n",
    "\n",
    "    return vcf_data"
   ]
  },
  {
   "cell_type": "code",
   "execution_count": 60,
   "id": "dcbee3bd-dbfb-4af0-a837-152e9184fa52",
   "metadata": {},
   "outputs": [],
   "source": [
    "a = np.ones(len(query[\"variants/ID\"]))"
   ]
  },
  {
   "cell_type": "code",
   "execution_count": 61,
   "id": "67e80488-0f59-409b-ac23-b4320dad500b",
   "metadata": {},
   "outputs": [],
   "source": [
    "a[[0,1]] = 1\n",
    "a = a.astype(bool)"
   ]
  },
  {
   "cell_type": "code",
   "execution_count": 62,
   "id": "a1735dfb-d10b-4c5f-98db-02ea01c02156",
   "metadata": {},
   "outputs": [],
   "source": [
    "query_filtered = select_snps(query, a)"
   ]
  },
  {
   "cell_type": "code",
   "execution_count": 55,
   "id": "e228c592-039a-4ac2-a221-3bb7a93e539b",
   "metadata": {},
   "outputs": [
    {
     "data": {
      "text/plain": [
       "{'samples': array(['140447_S11', '149323_S6', '152721_S5', '160822_S4', '164612_S9',\n",
       "        '165414_S20', '168979_S18', '171515_S19', '172281_S2',\n",
       "        '172384_S14', '172724_S8', '173006_S10', '173486_S3', '175885_S12',\n",
       "        '87125_S1', '91072_S13', '91317_S7', 'AC023', 'AM007',\n",
       "        'AND10232010_S17', 'AfghanHound01', 'AfghanHound03',\n",
       "        'AfghanHound04', 'AiredaleTerrier01', 'AiredaleTerrier02',\n",
       "        'AiredaleTerrier05', 'AlaskanMalamute01', 'AlaskanMalamute02',\n",
       "        'AustralianCattleDog01', 'AustralianCattleDog02',\n",
       "        'AustralianCattleDog03', 'BAN00032', 'BAN00041', 'BAN00079',\n",
       "        'BAN00127', 'BAN00133', 'BAN00136', 'BAN00150', 'BAN00183',\n",
       "        'BAN00235', 'BAN00283', 'BAN00289', 'BAN00315', 'BAN00368',\n",
       "        'BAN00380', 'BAN00437', 'BAN00449', 'BAN00461', 'BC0480', 'BC485',\n",
       "        'BC518', 'BC597', 'BT1021', 'Basenji01', 'Basenji02', 'Basenji03',\n",
       "        'Beagle01', 'Beagle02', 'Beagle03', 'Beagle04', 'BeardedCollie01',\n",
       "        'BeardedCollie02', 'BeardedCollie03', 'BeardedCollie04',\n",
       "        'BeardedCollie05', 'BeardedCollie06', 'BeardedCollie07',\n",
       "        'BelgianMalinois01', 'BelgianMalinois02', 'BelgianMalinois03',\n",
       "        'BelgianSheepdog01', 'BelgianSheepdog02', 'BelgianSheepdog03',\n",
       "        'BelgianSheepdog04', 'BelgianSheepdog05', 'BelgianSheepdog06',\n",
       "        'BelgianSheepdog07', 'BelgianTervuren01', 'BelgianTervuren02',\n",
       "        'BelgianTervuren03', 'BelgianTervuren04', 'BelgianTervuren05',\n",
       "        'BelgianTervuren06', 'BelgianTervuren07', 'BelgianTervuren08',\n",
       "        'BelgianTervuren09', 'BelgianTervuren10', 'BelgianTervuren11',\n",
       "        'BergerPicard01', 'BergerPicard02', 'BergerPicard03',\n",
       "        'BerneseMountainDog01', 'BerneseMountainDog02',\n",
       "        'BerneseMountainDog03', 'BerneseMountainDog04',\n",
       "        'BerneseMountainDog05', 'BerneseMountainDog06',\n",
       "        'BerneseMountainDog07', 'BerneseMountainDog08',\n",
       "        'BerneseMountainDog09', 'BerneseMountainDog10',\n",
       "        'BerneseMountainDog11', 'BerneseMountainDog12',\n",
       "        'BerneseMountainDog13', 'BerneseMountainDog14',\n",
       "        'BerneseMountainDog15', 'BerneseMountainDog16',\n",
       "        'BerneseMountainDog17', 'BerneseMountainDog18', 'BorderCollie01',\n",
       "        'BorderCollie02', 'BorderCollie03', 'BorderCollie06',\n",
       "        'BorderCollie07', 'BorderCollie08', 'BorderTerrier01',\n",
       "        'BorderTerrier02', 'BorderTerrier03', 'BouvierDesFlandres01',\n",
       "        'BouvierDesFlandres02', 'BullTerrier01', 'BullTerrier02',\n",
       "        'BullTerrier03', 'BullTerrier04', 'BullTerrier05', 'CFA.105990',\n",
       "        'CFA.107834', 'CFA.107835', 'CFA.107836', 'CFA.107837',\n",
       "        'CFA.107838', 'CFA.107842', 'CFA.109668', 'CFA.109670',\n",
       "        'CFA.117995', 'CFA.117996', 'CFA.117997', 'CFA.117999',\n",
       "        'CFA.118001', 'CFA.118002', 'CFA.118003', 'CP003', 'CW011',\n",
       "        'Chihuahua01', 'Chihuahua03', 'Chihuahua05', 'ChowChow01',\n",
       "        'ChowChow02', 'ChowChow03', 'CockerSpanielEnglish01',\n",
       "        'CockerSpanielEnglish02', 'CockerSpanielEnglish03',\n",
       "        'CockerSpanielEnglish04', 'CockerSpanielEnglish05', 'DD116',\n",
       "        'BullTerrier06', 'BullTerrier07', 'BullTerrier08', 'DH0117',\n",
       "        'DH126', 'DO242', 'DS043', 'DS051', 'DS053', 'Dachshund01',\n",
       "        'Doberman01', 'Doberman02', 'Doberman03', 'Doberman04',\n",
       "        'EnglishSetter01', 'FlatcoatedRetriever01',\n",
       "        'FlatcoatedRetriever02', 'FlatcoatedRetriever03', 'GR0892',\n",
       "        'GY432', 'GermanShepherd01', 'GermanShepherd02',\n",
       "        'GermanShepherd03', 'GermanShepherd04', 'GermanShepherd05',\n",
       "        'GermanShepherd06', 'GermanShepherd07', 'GermanShepherd08',\n",
       "        'GermanShepherd09', 'GermanShepherd10', 'GermanShepherd11',\n",
       "        'GermanShepherd12', 'GoldenRetriever01', 'GoldenRetriever02',\n",
       "        'GoldenRetriever03', 'GoldenRetriever04', 'GoldenRetriever05',\n",
       "        'GoldenRetriever06', 'GoldenRetriever07', 'GoldenRetriever08',\n",
       "        'GoldenRetriever09', 'GoldenRetriever10', 'GoldenRetriever11',\n",
       "        'GoldenRetriever12', 'GoldenRetriever13', 'GreatDane01',\n",
       "        'GreatDane02', 'Greyhound01', 'Greyhound02', 'Greyhound03',\n",
       "        'Greyhound04', 'Greyhound05', 'Greyhound06', 'Greyhound07',\n",
       "        'Greyhound08', 'Helsinki_BC1028', 'Helsinki_BC1029',\n",
       "        'Helsinki_BC222', 'Helsinki_BC387', 'Helsinki_BC578',\n",
       "        'IrishWaterSpaniel01', 'IrishWaterSpaniel02',\n",
       "        'IrishWaterSpaniel03', 'LA2443', 'LEW02122013_S15', 'LR04989',\n",
       "        'LabradorRetriever01', 'LabradorRetriever02',\n",
       "        'LabradorRetriever03', 'LabradorRetriever04',\n",
       "        'LabradorRetriever05', 'LabradorRetriever06',\n",
       "        'LabradorRetriever07', 'LabradorRetriever08',\n",
       "        'LabradorRetriever10', 'LabradorRetriever12',\n",
       "        'LabradorRetriever13', 'MA0163', 'MA142', 'MS04563', 'MS04593',\n",
       "        'MiniatureSchnauzer01', 'NW062', 'NW152', 'NW206', 'NW255',\n",
       "        'PER00016', 'PER00018', 'PER00025', 'PER00061', 'PER00064',\n",
       "        'PER00075', 'PER00107', 'PER00138', 'PER00142', 'PER00144',\n",
       "        'PER00152', 'PER00167', 'PER00177', 'PER00204', 'PER00226',\n",
       "        'PER00259', 'PER00274', 'PER00313', 'PER00314', 'PER00321',\n",
       "        'PER00324', 'PER00327', 'PER00344', 'PER00361', 'PER00393',\n",
       "        'PER00394', 'PER00408', 'PER00409', 'PER00425', 'PER00429',\n",
       "        'PER00438', 'PER00449', 'PER00454', 'PER00462', 'PER00465',\n",
       "        'PER00481', 'PER00484', 'PER00550', 'PER00594', 'PER00602',\n",
       "        'PER00605', 'PER00606', 'PER00607', 'PER00622', 'PER00626',\n",
       "        'PER00640', 'PER00642', 'PER00646', 'PER00650', 'PER00658',\n",
       "        'PER00738', 'PER00739', 'PER00747', 'PER00750', 'PER00758',\n",
       "        'PER00777', 'PER00806', 'PER00816', 'PembrokeWelshCorgi01',\n",
       "        'PembrokeWelshCorgi02', 'PembrokeWelshCorgi03',\n",
       "        'PortugueseWaterDog01', 'PortugueseWaterDog02',\n",
       "        'PortugueseWaterDog03', 'PortugueseWaterDog04',\n",
       "        'PortugueseWaterDog05', 'PortugueseWaterDog06',\n",
       "        'PortugueseWaterDog07', 'PortugueseWaterDog08',\n",
       "        'PortugueseWaterDog09', 'PortugueseWaterDog10',\n",
       "        'PortugueseWaterDog11', 'Pug01', 'Pug02', 'Pug03', 'Pug04',\n",
       "        'Pug05', 'RR098', 'RhodesianRidgeback01', 'RhodesianRidgeback02',\n",
       "        'RhodesianRidgeback03', 'RhodesianRidgeback04', 'Rottweiler01',\n",
       "        'Rottweiler02', 'Rottweiler03', 'Rottweiler04', 'SS004', 'SY046',\n",
       "        'Saluki01', 'Saluki02', 'Saluki03', 'ScottishTerrier01',\n",
       "        'ScottishTerrier02', 'ScottishTerrier03', 'ScottishTerrier04',\n",
       "        'ShetlandSheepdog01', 'ShetlandSheepdog02', 'SiberianHusky01',\n",
       "        'SiberianHusky02', 'SiberianHusky04', 'Sloughi01', 'Sloughi02',\n",
       "        'Sloughi03', 'Sloughi04', 'SoftCoatedWheatenTerrier01',\n",
       "        'SoftCoatedWheatenTerrier02', 'SoftCoatedWheatenTerrier03',\n",
       "        'SoftCoatedWheatenTerrier04', 'StandardPoodle01',\n",
       "        'StandardPoodle02', 'StandardPoodle03', 'StandardSchnauzer01',\n",
       "        'TA001', 'TibetanMastiff01', 'TibetanMastiff02',\n",
       "        'TibetanMastiff03', 'TibetanMastiff04', 'TibetanMastiff05',\n",
       "        'TibetanMastiff06', 'TibetanMastiff07', 'TibetanMastiff08',\n",
       "        'TibetanMastiff09', 'TibetanMastiff10', 'TibetanMastiff11',\n",
       "        'WS42321902_S16', 'WW174', 'WW362', 'WW558',\n",
       "        'WestHighlandWhiteTerr01', 'WestHighlandWhiteTerr02',\n",
       "        'WestHighlandWhiteTerr03', 'WestHighlandWhiteTerr04',\n",
       "        'WestHighlandWhiteTerr05', 'WestHighlandWhiteTerr06',\n",
       "        'WestHighlandWhiteTerr08', 'WestHighlandWhiteTerr09',\n",
       "        'YorkshireTerrier01', 'YorkshireTerrier02'], dtype=object),\n",
       " 'calldata/GT': array([[[0, 0],\n",
       "         [0, 0],\n",
       "         [0, 0],\n",
       "         ...,\n",
       "         [0, 0],\n",
       "         [0, 0],\n",
       "         [0, 0]],\n",
       " \n",
       "        [[1, 1],\n",
       "         [1, 0],\n",
       "         [0, 1],\n",
       "         ...,\n",
       "         [1, 1],\n",
       "         [1, 1],\n",
       "         [0, 1]],\n",
       " \n",
       "        [[1, 1],\n",
       "         [1, 0],\n",
       "         [1, 1],\n",
       "         ...,\n",
       "         [1, 1],\n",
       "         [1, 1],\n",
       "         [0, 1]],\n",
       " \n",
       "        ...,\n",
       " \n",
       "        [[0, 1],\n",
       "         [0, 0],\n",
       "         [0, 0],\n",
       "         ...,\n",
       "         [0, 0],\n",
       "         [0, 0],\n",
       "         [0, 0]],\n",
       " \n",
       "        [[1, 0],\n",
       "         [0, 1],\n",
       "         [1, 1],\n",
       "         ...,\n",
       "         [1, 1],\n",
       "         [1, 1],\n",
       "         [1, 1]],\n",
       " \n",
       "        [[1, 0],\n",
       "         [0, 1],\n",
       "         [1, 1],\n",
       "         ...,\n",
       "         [1, 1],\n",
       "         [1, 1],\n",
       "         [1, 1]]], dtype=int8),\n",
       " 'variants/ALT': array([['G', '', ''],\n",
       "        ['T', '', ''],\n",
       "        ['G', '', ''],\n",
       "        ...,\n",
       "        ['G', '', ''],\n",
       "        ['A', '', ''],\n",
       "        ['T', '', '']], dtype=object),\n",
       " 'variants/CHROM': array(['chr1', 'chr1', 'chr1', ..., 'chr38', 'chr38', 'chr38'],\n",
       "       dtype=object),\n",
       " 'variants/FILTER_PASS': array([ True,  True,  True, ...,  True,  True,  True]),\n",
       " 'variants/ID': array(['rs8993730', '.', 'rs21882969', ..., 'rs24043776', 'rs24035155',\n",
       "        'rs24043764'], dtype=object),\n",
       " 'variants/POS': array([  249580,   266523,   273487, ..., 23878556, 23886599, 23893119],\n",
       "       dtype=int32),\n",
       " 'variants/QUAL': array([0., 0., 0., ..., 0., 0., 0.], dtype=float32),\n",
       " 'variants/REF': array(['A', 'G', 'A', ..., 'A', 'G', 'C'], dtype=object)}"
      ]
     },
     "execution_count": 55,
     "metadata": {},
     "output_type": "execute_result"
    }
   ],
   "source": []
  },
  {
   "cell_type": "code",
   "execution_count": null,
   "id": "5bd2d9c9-ad4a-4c69-8ae0-777500131da0",
   "metadata": {},
   "outputs": [],
   "source": []
  }
 ],
 "metadata": {
  "kernelspec": {
   "display_name": "Python 3 (ipykernel)",
   "language": "python",
   "name": "python3"
  },
  "language_info": {
   "codemirror_mode": {
    "name": "ipython",
    "version": 3
   },
   "file_extension": ".py",
   "mimetype": "text/x-python",
   "name": "python",
   "nbconvert_exporter": "python",
   "pygments_lexer": "ipython3",
   "version": "3.9.0"
  }
 },
 "nbformat": 4,
 "nbformat_minor": 5
}
