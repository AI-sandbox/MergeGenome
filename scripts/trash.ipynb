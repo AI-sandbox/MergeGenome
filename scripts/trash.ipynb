{
 "cells": [
  {
   "cell_type": "code",
   "execution_count": 1,
   "id": "0cb2291a-8e41-4aee-bb29-dcb44c16e2b6",
   "metadata": {},
   "outputs": [
    {
     "ename": "AssertionError",
     "evalue": "/scratch/users/miriambt/data/dogs/formatted_data/4th_dataset/array/All_Pure_150k.vcf not found. Is it a file?",
     "output_type": "error",
     "traceback": [
      "\u001b[0;31m---------------------------------------------------------------------------\u001b[0m",
      "\u001b[0;31mAssertionError\u001b[0m                            Traceback (most recent call last)",
      "\u001b[0;32m/tmp/ipykernel_49342/436751086.py\u001b[0m in \u001b[0;36m<module>\u001b[0;34m\u001b[0m\n\u001b[1;32m     26\u001b[0m \u001b[0;34m\u001b[0m\u001b[0m\n\u001b[1;32m     27\u001b[0m \u001b[0;31m## Read .vcf file using skikit-allel\u001b[0m\u001b[0;34m\u001b[0m\u001b[0;34m\u001b[0m\u001b[0;34m\u001b[0m\u001b[0m\n\u001b[0;32m---> 28\u001b[0;31m \u001b[0mdata\u001b[0m \u001b[0;34m=\u001b[0m \u001b[0mread_vcf_file\u001b[0m\u001b[0;34m(\u001b[0m\u001b[0mPATH\u001b[0m\u001b[0;34m)\u001b[0m\u001b[0;34m\u001b[0m\u001b[0;34m\u001b[0m\u001b[0m\n\u001b[0m",
      "\u001b[0;32m~/my_work/dog-gen-to-phen/preprocessing/utils/vcf_utils.py\u001b[0m in \u001b[0;36mread_vcf_file\u001b[0;34m(path_to_vcf_file)\u001b[0m\n\u001b[1;32m     28\u001b[0m \u001b[0;34m\u001b[0m\u001b[0m\n\u001b[1;32m     29\u001b[0m     \u001b[0;31m## Check the path to the .vcf file exists\u001b[0m\u001b[0;34m\u001b[0m\u001b[0;34m\u001b[0m\u001b[0;34m\u001b[0m\u001b[0m\n\u001b[0;32m---> 30\u001b[0;31m     \u001b[0;32massert\u001b[0m \u001b[0mos\u001b[0m\u001b[0;34m.\u001b[0m\u001b[0mpath\u001b[0m\u001b[0;34m.\u001b[0m\u001b[0misfile\u001b[0m\u001b[0;34m(\u001b[0m\u001b[0mpath_to_vcf_file\u001b[0m\u001b[0;34m)\u001b[0m\u001b[0;34m,\u001b[0m \u001b[0;34mf'{path_to_vcf_file} not found. Is it a file?'\u001b[0m\u001b[0;34m\u001b[0m\u001b[0;34m\u001b[0m\u001b[0m\n\u001b[0m\u001b[1;32m     31\u001b[0m \u001b[0;34m\u001b[0m\u001b[0m\n\u001b[1;32m     32\u001b[0m     \u001b[0;31m## Read the .vcf file using skikit-allel\u001b[0m\u001b[0;34m\u001b[0m\u001b[0;34m\u001b[0m\u001b[0;34m\u001b[0m\u001b[0m\n",
      "\u001b[0;31mAssertionError\u001b[0m: /scratch/users/miriambt/data/dogs/formatted_data/4th_dataset/array/All_Pure_150k.vcf not found. Is it a file?"
     ]
    }
   ],
   "source": [
    "################################################################################\n",
    "# Reads a single .vcf file with genomic data\n",
    "# Filters the data by chromosome\n",
    "# If the variants/CHROM nomenclature is in the form '1', ..., '38', \n",
    "# renames from '1' to 'chr1', ..., '38' to 'chr38'\n",
    "# Writes the result in separate .vcf files, one for each chromosome\n",
    "################################################################################\n",
    "\n",
    "import sys\n",
    "sys.path.append('/home/users/miriambt/my_work/dog-gen-to-phen/preprocessing')\n",
    "\n",
    "from utils.vcf_utils import read_vcf_file, filter_by_chromosome, rename_chromosome, write_vcf_file\n",
    "\n",
    "################################################################################\n",
    "\n",
    "## USER INPUTS\n",
    "#~~~~~~~~~~~~~~~~~~~~~~~~~~~~~~~~~~~~~~~~~~~~~~~~~~\n",
    "\n",
    "## Define path to single .vcf file with all chromosomes data\n",
    "PATH = '/scratch/users/miriambt/data/dogs/formatted_data/4th_dataset/array/All_Pure_150k.vcf'\n",
    "\n",
    "## Define path to output .vcf file with data for a single chromosome {}\n",
    "OUTPUT_PATH = '/scratch/users/miriambt/data/dogs/formatted_data/4th_dataset/array/All_Pure_150k_chr{}.vcf'\n",
    "\n",
    "#~~~~~~~~~~~~~~~~~~~~~~~~~~~~~~~~~~~~~~~~~~~~~~~~~~\n",
    "\n",
    "## Read .vcf file using skikit-allel\n",
    "data = read_vcf_file(PATH)"
   ]
  },
  {
   "cell_type": "code",
   "execution_count": null,
   "id": "bcc9c856-15be-4d44-997a-1614f51aad52",
   "metadata": {},
   "outputs": [],
   "source": [
    "for i in range (1, 39):\n",
    "    ## For each chromosome number...\n",
    "    \n",
    "    ## Define path to output .vcf file with genomic data for chromosome i\n",
    "    output_path = OUTPUT_PATH.format(i)\n",
    "    \n",
    "    ## Filter the data to include the SNPs for chromosome i\n",
    "    data_chr_i = filter_by_chromosome(data.copy(), str(i))\n",
    "    \n",
    "    ## Rename variants/CHROM from {i} to chr{i}\n",
    "    # If the variants/CHROM nomenclature is already in the chr{i} form, do nothing\n",
    "    data_chr_i = rename_chromosome(data_chr_i, str(i), 'chr{}'.format(i))\n",
    "    \n",
    "    ## Write data for chromosome i in output .vcf file\n",
    "    write_vcf_file(data_chr_i, output_path)"
   ]
  }
 ],
 "metadata": {
  "kernelspec": {
   "display_name": "Python 3 (ipykernel)",
   "language": "python",
   "name": "python3"
  },
  "language_info": {
   "codemirror_mode": {
    "name": "ipython",
    "version": 3
   },
   "file_extension": ".py",
   "mimetype": "text/x-python",
   "name": "python",
   "nbconvert_exporter": "python",
   "pygments_lexer": "ipython3",
   "version": "3.9.0"
  }
 },
 "nbformat": 4,
 "nbformat_minor": 5
}
