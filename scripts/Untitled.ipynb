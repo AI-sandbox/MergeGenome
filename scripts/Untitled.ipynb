{
 "cells": [
  {
   "cell_type": "code",
   "execution_count": 11,
   "id": "80cc05a4-3813-4910-9794-735f0bff8fdb",
   "metadata": {},
   "outputs": [
    {
     "ename": "NameError",
     "evalue": "name 'os' is not defined",
     "output_type": "error",
     "traceback": [
      "\u001b[0;31m---------------------------------------------------------------------------\u001b[0m",
      "\u001b[0;31mNameError\u001b[0m                                 Traceback (most recent call last)",
      "\u001b[0;32m/tmp/ipykernel_2032/763430679.py\u001b[0m in \u001b[0;36m<module>\u001b[0;34m\u001b[0m\n\u001b[1;32m     19\u001b[0m \u001b[0;34m\u001b[0m\u001b[0m\n\u001b[1;32m     20\u001b[0m \u001b[0;31m## Read .vcf file using skikit-allel\u001b[0m\u001b[0;34m\u001b[0m\u001b[0;34m\u001b[0m\u001b[0;34m\u001b[0m\u001b[0m\n\u001b[0;32m---> 21\u001b[0;31m \u001b[0mdata\u001b[0m \u001b[0;34m=\u001b[0m \u001b[0mread_vcf_file\u001b[0m\u001b[0;34m(\u001b[0m\u001b[0mPATH\u001b[0m\u001b[0;34m)\u001b[0m\u001b[0;34m\u001b[0m\u001b[0;34m\u001b[0m\u001b[0m\n\u001b[0m",
      "\u001b[0;32m~/my_work/dog-gen-to-phen/merge-vcf-files/utils/io.py\u001b[0m in \u001b[0;36mread_vcf_file\u001b[0;34m(path_to_vcf_file)\u001b[0m\n\u001b[1;32m     12\u001b[0m \u001b[0;34m\u001b[0m\u001b[0m\n\u001b[1;32m     13\u001b[0m     \u001b[0;31m## Read the .vcf file using skikit-allel\u001b[0m\u001b[0;34m\u001b[0m\u001b[0;34m\u001b[0m\u001b[0;34m\u001b[0m\u001b[0m\n\u001b[0;32m---> 14\u001b[0;31m     \u001b[0mvcf_data\u001b[0m \u001b[0;34m=\u001b[0m \u001b[0mallel\u001b[0m\u001b[0;34m.\u001b[0m\u001b[0mread_vcf\u001b[0m\u001b[0;34m(\u001b[0m\u001b[0mpath_to_vcf_file\u001b[0m\u001b[0;34m)\u001b[0m\u001b[0;34m\u001b[0m\u001b[0;34m\u001b[0m\u001b[0m\n\u001b[0m\u001b[1;32m     15\u001b[0m \u001b[0;34m\u001b[0m\u001b[0m\n\u001b[1;32m     16\u001b[0m     \u001b[0;32mreturn\u001b[0m \u001b[0mvcf_data\u001b[0m\u001b[0;34m\u001b[0m\u001b[0;34m\u001b[0m\u001b[0m\n",
      "\u001b[0;31mNameError\u001b[0m: name 'os' is not defined"
     ]
    }
   ],
   "source": [
    "import sys\n",
    "sys.path.append('../')\n",
    "\n",
    "from utils.io import read_vcf_file, write_vcf_file\n",
    "from utils.vcf_utils import filter_by_chromosome, rename_chromosome\n",
    "\n",
    "################################################################################\n",
    "\n",
    "## USER INPUTS\n",
    "#~~~~~~~~~~~~~~~~~~~~~~~~~~~~~~~~~~~~~~~~~~~~~~~~~~\n",
    "\n",
    "## Define path to single .vcf file with all chromosomes data\n",
    "PATH = '/scratch/users/miriambt/data/dogs/formatted_data/4th_dataset/array/All_Pure_150k.vcf'\n",
    "\n",
    "## Define path to output .vcf file with data for a single chromosome {}\n",
    "OUTPUT_PATH = '/scratch/users/miriambt/data/dogs/formatted_data/4th_dataset/array/All_Pure_150k_chr{}.vcf'\n",
    "\n",
    "#~~~~~~~~~~~~~~~~~~~~~~~~~~~~~~~~~~~~~~~~~~~~~~~~~~\n",
    "\n",
    "## Read .vcf file using skikit-allel\n",
    "data = read_vcf_file(PATH)"
   ]
  },
  {
   "cell_type": "code",
   "execution_count": 9,
   "id": "140d0722-a5a4-47c4-acda-fc69ed156fda",
   "metadata": {},
   "outputs": [
    {
     "data": {
      "text/plain": [
       "array(['1', '10', '11', '12', '13', '14', '15', '16', '17', '18', '19',\n",
       "       '2', '20', '21', '22', '23', '24', '25', '26', '27', '28', '29',\n",
       "       '3', '30', '31', '32', '33', '34', '35', '36', '37', '38', '4',\n",
       "       '5', '6', '7', '8', '9', 'X'], dtype=object)"
      ]
     },
     "execution_count": 9,
     "metadata": {},
     "output_type": "execute_result"
    }
   ],
   "source": [
    "import numpy as np\n",
    "\n",
    "np.unique(data['variants/CHROM'])"
   ]
  },
  {
   "cell_type": "code",
   "execution_count": null,
   "id": "0b74cc3b-6fd8-4faf-a4ec-dc79e2a90d5b",
   "metadata": {},
   "outputs": [],
   "source": [
    "for i in range (1, 39):\n",
    "    ## For each chromosome number...\n",
    "    \n",
    "    ## Define path to output .vcf file with genomic data for chromosome i\n",
    "    output_path = OUTPUT_PATH.format(i)\n",
    "    \n",
    "    ## Filter the data to include the SNPs for chromosome i\n",
    "    data_chr_i = filter_by_chromosome(data.copy(), str(i))\n",
    "    \n",
    "    ## Rename variants/CHROM from {i} to chr{i}\n",
    "    # If the variants/CHROM nomenclature is already in the chr{i} form, do nothing\n",
    "    data_chr_i = rename_chromosome(data_chr_i, str(i), 'chr{}'.format(i))\n",
    "    \n",
    "    ## Write data for chromosome i in output .vcf file\n",
    "    write_vcf_file(data_chr_i, output_path)"
   ]
  }
 ],
 "metadata": {
  "kernelspec": {
   "display_name": "Python 3 (ipykernel)",
   "language": "python",
   "name": "python3"
  },
  "language_info": {
   "codemirror_mode": {
    "name": "ipython",
    "version": 3
   },
   "file_extension": ".py",
   "mimetype": "text/x-python",
   "name": "python",
   "nbconvert_exporter": "python",
   "pygments_lexer": "ipython3",
   "version": "3.9.0"
  }
 },
 "nbformat": 4,
 "nbformat_minor": 5
}
